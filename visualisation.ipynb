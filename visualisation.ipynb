{
 "cells": [
  {
   "cell_type": "code",
   "execution_count": 6,
   "metadata": {},
   "outputs": [],
   "source": [
    "import matplotlib.pyplot as plt\n",
    "import numpy as np\n",
    "import pandas as pd\n",
    "import altair as alt"
   ]
  },
  {
   "cell_type": "code",
   "execution_count": 7,
   "metadata": {},
   "outputs": [],
   "source": [
    "data = pd.read_csv('Data/shap_values_with_coordinates.csv')"
   ]
  },
  {
   "cell_type": "code",
   "execution_count": 10,
   "metadata": {},
   "outputs": [],
   "source": [
    "data['index'] = data.index"
   ]
  },
  {
   "cell_type": "code",
   "execution_count": 17,
   "metadata": {},
   "outputs": [],
   "source": [
    "data.to_csv('Data/shap_values_with_coordinates_indexed.csv')"
   ]
  },
  {
   "cell_type": "code",
   "execution_count": 16,
   "metadata": {},
   "outputs": [],
   "source": [
    "brush = alt.selection_interval()\n",
    "\n",
    "points = alt.Chart(data).mark_circle().encode(\n",
    "    x='x:Q',\n",
    "    y='y:Q',\n",
    "    color=alt.Color('class:O').scale(scheme='set1'),\n",
    "    opacity=alt.condition(brush, alt.value(1), alt.value(0.2))\n",
    ").add_params(brush).properties(width=750, height=750)\n",
    "\n",
    "ranked_text = alt.Chart(data).mark_text(align='right').encode(\n",
    "    y=alt.Y('row_number:O').axis(None)\n",
    ").transform_filter(\n",
    "    brush\n",
    ").transform_window(\n",
    "    row_number='row_number()'\n",
    ").transform_filter(\n",
    "    alt.datum.row_number < 150\n",
    ")\n",
    "\n",
    "features = ['index'] + [x for x in data.columns if x not in ['x','y', 'index']]\n",
    "columns = []\n",
    "\n",
    "for feature in features:\n",
    "    feature_var = ranked_text.encode(text=alt.Text(f'{feature}:Q')).properties(\n",
    "        title=alt.Title(text=feature.capitalize(), align='right'),\n",
    "    )\n",
    "    columns.append(feature_var)\n",
    "\n",
    "alt.vconcat(points, alt.hconcat(*columns)).save('test.html')"
   ]
  }
 ],
 "metadata": {
  "kernelspec": {
   "display_name": "pytorch",
   "language": "python",
   "name": "python3"
  },
  "language_info": {
   "codemirror_mode": {
    "name": "ipython",
    "version": 3
   },
   "file_extension": ".py",
   "mimetype": "text/x-python",
   "name": "python",
   "nbconvert_exporter": "python",
   "pygments_lexer": "ipython3",
   "version": "3.13.0"
  }
 },
 "nbformat": 4,
 "nbformat_minor": 2
}
